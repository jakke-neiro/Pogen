{
 "cells": [
  {
   "cell_type": "markdown",
   "id": "9bdab00c-f6af-43e5-b8ba-35b2f6e0110b",
   "metadata": {},
   "source": [
    "# Populaatiogenetiikka"
   ]
  },
  {
   "cell_type": "code",
   "execution_count": null,
   "id": "af829aa6-6527-4207-a045-34a676844d4f",
   "metadata": {},
   "outputs": [],
   "source": []
  }
 ],
 "metadata": {
  "kernelspec": {
   "display_name": "Python 3 (ipykernel)",
   "language": "python",
   "name": "python3"
  },
  "language_info": {
   "codemirror_mode": {
    "name": "ipython",
    "version": 3
   },
   "file_extension": ".py",
   "mimetype": "text/x-python",
   "name": "python",
   "nbconvert_exporter": "python",
   "pygments_lexer": "ipython3",
   "version": "3.8.13"
  }
 },
 "nbformat": 4,
 "nbformat_minor": 5
}
