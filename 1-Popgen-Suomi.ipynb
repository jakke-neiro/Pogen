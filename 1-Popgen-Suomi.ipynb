{
 "cells": [
  {
   "cell_type": "markdown",
   "id": "9bdab00c-f6af-43e5-b8ba-35b2f6e0110b",
   "metadata": {},
   "source": [
    "# Populaatiogenetiikka"
   ]
  },
  {
   "cell_type": "markdown",
   "id": "9f10f5b6-8c6a-4cd9-b06a-866b28f3cccb",
   "metadata": {},
   "source": [
    "Populaatiogenetiikka on genetiikan osahaara, joka tutkii alleeli- ja genotyyppifrekvenssien vaihtelua populaatiossa. "
   ]
  },
  {
   "cell_type": "markdown",
   "id": "2cb60e84-40ab-4ae7-ac4d-3d8f91d102b8",
   "metadata": {},
   "source": [
    "## Historia"
   ]
  },
  {
   "cell_type": "markdown",
   "id": "8a7f72a8-5f9b-4470-a610-2288e8394c9c",
   "metadata": {},
   "source": [
    "Fisher, Haldane ja Wright loivat populaatiogenetiikan matemaattisen pohjan. 1960-luvulle tultaessa oli kerääntynyt paljon kokeellista aineistoa kelpoisuudesta ja määrällisten ominaisuuksien vaihtelusta, ja kromosomaalisia polymorfismeja oli kartoitettu. Oli muodostunut kaksi koulukuntaa: muuntelun \"klassista\" koulukuntaa puolsi mm. HJ Muller, kun taas Theodosius Dobzhansky oli \"tasapainokoulukunnan\" johtohamo (Lewontin 1974). Klassisen näkemyksen mukaan geenin tyypillisin muoto populaatiossa oli toimiva alleeli, ja haitallisia mutanttialleeleja esiintyi vähän (Muller 1950). Tasapainokoulukunnan mukaan useimmilla geeneillä on kaksi tai useampaa vaihtoehtoista alleelia, joiden frekvenssejä tasapainottava valinta ylläpitä (Dobzhanksy, 1955). \n",
    "\n",
    "Wright ja brittiläisen populaatiogenetiikan edustajat, Fisher ja Ford etunenässä, olivat kiihkeästi väitelleet geneettisen ajautumisen ja valinnan keskinäistä merkityksestä evoluutiossa. Motoo Kimura ja James Crow osoittivat, että neutraalit mutaatiot ja ajautuminen pystyivät saamaan aikaan korkeita muuntelutasoja populaatiossa (Kimura ja Crow 1964). "
   ]
  },
  {
   "cell_type": "markdown",
   "id": "b21310f8-a653-4341-bde3-a5160033ce7b",
   "metadata": {},
   "source": [
    "# 1. Genotyyppifrekvenssit"
   ]
  },
  {
   "cell_type": "markdown",
   "id": "4b97b05a-e34d-4060-8998-1d13aea2a63d",
   "metadata": {},
   "source": [
    "## 1.1 Mendelistinen genetiikka"
   ]
  },
  {
   "cell_type": "markdown",
   "id": "350e42c5-c698-423a-ab5d-6a9b394686f0",
   "metadata": {},
   "source": [
    "Mendelin kokeet loivat genetiikan ja siten populaatiogenetiikan perustan. \n",
    "\n",
    "**Mendelin ensimmäinen laki**: Mendelin ensimmäinen laki tunnetaan erkanemissääntönä, lohkeamissääntönä tai segraatiosääntönä. Ensimmäisen lain mukaan yhden lokuksen alleelit erkanevat itsenäisesti sukusoluihin. Kun yksilö tuottaa sukusoluja, jokainen sukusolu saa yhden kopion lokuksesta. \n",
    "\n",
    "**Mendelin toinen laki**: Mendelin toinen laki tunnetaan lakina riippumattomuudesta tai ominaisuuksien vapaan yhdistymisen sääntönä. Lain mukaan eri lokukset jakautuvat sukusoluihin toisistaan riippumatta. Yhden geenin alleelien erkaneminen on riippumatonta toisen geenin alleelien erkanemisesta. "
   ]
  },
  {
   "cell_type": "markdown",
   "id": "3eacf607-9829-46b7-b7c8-c44a01b90cb8",
   "metadata": {
    "tags": []
   },
   "source": [
    "Mendel julkaisi tutkimuksensa vuonna 1866. \n",
    "\n",
    "Monet genetiikan termit juontavat juurensa 1900-luvun alkuun. Tieteenalan kehittyessä myös termien merkitykset ja määritelmät ovat muuttuneet. \n",
    "\n",
    "* Geeni on perinnöllisyyden perusyksikkö. Geeni on \"tietyistä nukleotidisekvensseistä koostuva jakso DNA:ssa, joka määrää yksilön ilmiasun (fenotyyppi) ja perityy sukupolvelta toiselle. \n",
    "* Lokus: tietty osa genomia\n",
    "* Alleeli: Tietyn lokuksen vaihtoehtoinen DNA-sekvenssi\n",
    "* Genotyyppi: Yksilön perintötekijöiden muodostama kokonaisuus\n",
    "* Fenotyyppi: Yksilön morfologisten, biokemiallisten, fysiologisten, ja käyttyäymisen ominaisuuksien yhdistelmä\n",
    "* Dominantti\n",
    "* Resessiivinen"
   ]
  },
  {
   "cell_type": "markdown",
   "id": "4ef710a9-ea96-462c-b78d-29dd41fa3491",
   "metadata": {},
   "source": [
    "## 1.2 Hardyn-Weinbergin laki"
   ]
  },
  {
   "cell_type": "markdown",
   "id": "ac1cff47-990b-450b-aded-dd46e988cc56",
   "metadata": {
    "tags": []
   },
   "source": [
    "Lain kehittivät Hardy ja Weinberg. Suomeksi molemmat ovat genetiivissä."
   ]
  },
  {
   "cell_type": "markdown",
   "id": "73aa3a65-bd08-4c6b-a2bc-97af1041eaef",
   "metadata": {},
   "source": [
    "$$\n",
    "p^2 + 2pq + q^2\n",
    "$$"
   ]
  },
  {
   "cell_type": "code",
   "execution_count": null,
   "id": "6c694ab9-af38-45b4-8276-da071c935d3c",
   "metadata": {},
   "outputs": [],
   "source": []
  }
 ],
 "metadata": {
  "kernelspec": {
   "display_name": "Python 3 (ipykernel)",
   "language": "python",
   "name": "python3"
  },
  "language_info": {
   "codemirror_mode": {
    "name": "ipython",
    "version": 3
   },
   "file_extension": ".py",
   "mimetype": "text/x-python",
   "name": "python",
   "nbconvert_exporter": "python",
   "pygments_lexer": "ipython3",
   "version": "3.8.13"
  }
 },
 "nbformat": 4,
 "nbformat_minor": 5
}
