{
 "cells": [
  {
   "cell_type": "markdown",
   "id": "9bdab00c-f6af-43e5-b8ba-35b2f6e0110b",
   "metadata": {},
   "source": [
    "# Populaatiogenetiikka"
   ]
  },
  {
   "cell_type": "markdown",
   "id": "9f10f5b6-8c6a-4cd9-b06a-866b28f3cccb",
   "metadata": {},
   "source": [
    "Populaatiogenetiikka on genetiikan osahaara, joka tutkii alleeli- ja genotyyppifrekvenssien vaihtelua populaatiossa. "
   ]
  },
  {
   "cell_type": "markdown",
   "id": "2cb60e84-40ab-4ae7-ac4d-3d8f91d102b8",
   "metadata": {},
   "source": [
    "## Historia"
   ]
  },
  {
   "cell_type": "markdown",
   "id": "8a7f72a8-5f9b-4470-a610-2288e8394c9c",
   "metadata": {},
   "source": [
    "Fisher, Haldane ja Wright loivat populaatiogenetiikan matemaattisen pohjan. 1960-luvulle tultaessa oli kerääntynyt paljon kokeellista aineistoa kelpoisuudesta ja määrällisten ominaisuuksien vaihtelusta, ja kromosomaalisia polymorfismeja oli kartoitettu. Oli muodostunut kaksi koulukuntaa: muuntelun \"klassista\" koulukuntaa puolsi mm. HJ Muller, kun taas Theodosius Dobzhansky oli \"tasapainokoulukunnan\" johtohamo (Lewontin 1974). Klassisen näkemyksen mukaan geenin tyypillisin muoto populaatiossa oli toimiva alleeli, ja haitallisia mutanttialleeleja esiintyi vähän (Muller 1950). Tasapainokoulukunnan mukaan useimmilla geeneillä on kaksi tai useampaa vaihtoehtoista alleelia, joiden frekvenssejä tasapainottava valinta ylläpitä (Dobzhanksy, 1955). \n",
    "\n",
    "Wright ja brittiläisen populaatioGeneettisen ajautumisen ja valinnan keskinäistä merkityksestä evoluutiossa"
   ]
  }
 ],
 "metadata": {
  "kernelspec": {
   "display_name": "Python 3 (ipykernel)",
   "language": "python",
   "name": "python3"
  },
  "language_info": {
   "codemirror_mode": {
    "name": "ipython",
    "version": 3
   },
   "file_extension": ".py",
   "mimetype": "text/x-python",
   "name": "python",
   "nbconvert_exporter": "python",
   "pygments_lexer": "ipython3",
   "version": "3.8.13"
  }
 },
 "nbformat": 4,
 "nbformat_minor": 5
}
